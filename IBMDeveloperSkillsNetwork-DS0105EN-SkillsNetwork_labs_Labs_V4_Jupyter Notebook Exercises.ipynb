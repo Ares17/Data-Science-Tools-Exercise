{
  "metadata": {
    "language_info": {
      "codemirror_mode": {
        "name": "python",
        "version": 3
      },
      "file_extension": ".py",
      "mimetype": "text/x-python",
      "name": "python",
      "nbconvert_exporter": "python",
      "pygments_lexer": "ipython3",
      "version": "3.8"
    },
    "kernelspec": {
      "name": "python",
      "display_name": "Python (Pyodide)",
      "language": "python"
    }
  },
  "nbformat_minor": 4,
  "nbformat": 4,
  "cells": [
    {
      "cell_type": "markdown",
      "source": "## Title: Jupyter Notebook Exercises",
      "metadata": {}
    },
    {
      "cell_type": "markdown",
      "source": "# Introduction \n#### All contents in this notebook contains exercises relating to 'Tools for Data Science'",
      "metadata": {}
    },
    {
      "cell_type": "markdown",
      "source": "## List of Data Science Languages:\n1. Python\n2. R\n3. SQL\n4. Java\n5. C/C++\n6. Scala\n7. MATLAB",
      "metadata": {}
    },
    {
      "cell_type": "markdown",
      "source": "## List of Data Science Libraries:\n1. TensorFlow\n2. NumPy\n3. Pandas\n4. Matplotlib\n5. Scikit-learn\n6. Keras\n",
      "metadata": {
        "tags": []
      }
    },
    {
      "cell_type": "markdown",
      "source": "## Table of Data Science Tools\n|Category|Tools|\n|:---:|:---:\n| Data Tools | SQL,Apache Spark, Apache Airflow, Hadoop |\n| Visualization | Matplotlib, Seaborn, ggplot | ",
      "metadata": {}
    },
    {
      "cell_type": "markdown",
      "source": "# Arithmetic Expressions \n#### I will be demonstrating some arithmetic exercises below.",
      "metadata": {}
    },
    {
      "cell_type": "markdown",
      "source": "##### Create a code cell to multiply and add numbers.",
      "metadata": {}
    },
    {
      "cell_type": "code",
      "source": "# Examples\na = 100\nb = 200\nAddition = a + b\nMultiplication = a * b\n\n# Displaying Results\nprint(f\"Adding: {Addition}\")\nprint(f\"Multiplying: {Multiplication}\")",
      "metadata": {
        "trusted": true
      },
      "execution_count": 10,
      "outputs": [
        {
          "name": "stdout",
          "text": "Adding: 300\nMultiplying: 20000\n",
          "output_type": "stream"
        }
      ]
    },
    {
      "cell_type": "markdown",
      "source": "##### Create a code cell to convert minutes to hours",
      "metadata": {}
    },
    {
      "cell_type": "code",
      "source": "Minutes = 780\nHours = Minutes / 60\n\n#Displaying Results\nprint(f\"{Minutes} minutes equals to {Hours} hours.\")\n      \n",
      "metadata": {
        "trusted": true
      },
      "execution_count": 11,
      "outputs": [
        {
          "name": "stdout",
          "text": "780 minutes equals to 13.0 hours.\n",
          "output_type": "stream"
        }
      ]
    },
    {
      "cell_type": "markdown",
      "source": "## Objective",
      "metadata": {}
    },
    {
      "cell_type": "markdown",
      "source": "1. Gain general knowledge of Data Science Tools\n2. Learn How to use Jupyter Notebook\n3. Perform basic coding with Python by creating basic arithmetic expressions and conversions",
      "metadata": {}
    },
    {
      "cell_type": "markdown",
      "source": "# Author\n### William Park",
      "metadata": {}
    },
 
